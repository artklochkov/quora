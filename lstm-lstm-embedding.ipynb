{
 "cells": [
  {
   "cell_type": "code",
   "execution_count": 1,
   "metadata": {
    "collapsed": true
   },
   "outputs": [],
   "source": [
    "import tensorflow as tf\n",
    "import math"
   ]
  },
  {
   "cell_type": "code",
   "execution_count": 2,
   "metadata": {
    "collapsed": true
   },
   "outputs": [],
   "source": [
    "MAX_SEQUENCE_LENGTH = 1000;"
   ]
  },
  {
   "cell_type": "code",
   "execution_count": 3,
   "metadata": {
    "collapsed": true
   },
   "outputs": [],
   "source": [
    "def sequence_lengths(sequences):\n",
    "    lengths = tf.reduce_sum(tf.sign(sequences), axis = 1);\n",
    "    return lengths;\n",
    "\n",
    "def build_model(embedding_size = 100, lstm_size = 300, vocabulary_size = 100000):\n",
    "    x1 = tf.placeholder(tf.int32, shape = [None, MAX_SEQUENCE_LENGTH]);\n",
    "    x2 = tf.placeholder(tf.int32, shape = [None, MAX_SEQUENCE_LENGTH]);\n",
    "    \n",
    "    embeddings = tf.Variable(tf.truncated_normal([vocabulary_size, embedding_size],\n",
    "                      stddev=1.0 / math.sqrt(embedding_size)));\n",
    "    embedding_layer_1 = tf.nn.embedding_lookup(embeddings, x1);\n",
    "    embedding_layer_2 = tf.nn.embedding_lookup(embeddings, x2);\n",
    "\n",
    "    lstm_cell_1 = tf.contrib.rnn.LSTMCell(lstm_size);\n",
    "    lstm_cell_2 = tf.contrib.rnn.LSTMCell(lstm_size);\n",
    "\n",
    "    with tf.variable_scope(\"lstm_1\"):\n",
    "        _, (lstm_1_c_state, lstm_1_m_state) = tf.nn.dynamic_rnn(cell=lstm_cell_1,\n",
    "                                     dtype = tf.float32,\n",
    "                                     sequence_length = sequence_lengths(x1),\n",
    "                                     inputs = embedding_layer_1,\n",
    "                                     time_major = False);\n",
    "    \n",
    "    with tf.variable_scope(\"lstm_2\"):\n",
    "        _, (lstm_2_c_state, lstm_2_m_state) = tf.nn.dynamic_rnn(cell = lstm_cell_2,\n",
    "                                     dtype = tf.float32,\n",
    "                                     sequence_length = sequence_lengths(x2),\n",
    "                                     inputs = embedding_layer_2,\n",
    "                                     time_major = False);\n",
    "    \n",
    "    lstm_outputs = tf.concat([lstm_1_m_state, lstm_2_m_state], axis = 1);\n",
    "    W = tf.Variable(tf.truncated_normal([2 * lstm_size, 2], stddev = 1.0/ math.sqrt(lstm_size)));\n",
    "    b = tf.Variable(tf.truncated_normal([2], stddev = 1.0 / math.sqrt(2)));\n",
    "    softmax_inputs = tf.matmul(lstm_outputs, W) + b;\n",
    "    softmax_outputs = tf.nn.softmax(softmax_inputs);\n",
    "    return x1, x2, softmax_outputs"
   ]
  },
  {
   "cell_type": "code",
   "execution_count": 4,
   "metadata": {
    "collapsed": true
   },
   "outputs": [],
   "source": [
    "x1, x2, softmax_outputs = build_model();\n",
    "y_ = tf.placeholder(tf.float32, shape = (2,None));"
   ]
  },
  {
   "cell_type": "code",
   "execution_count": 5,
   "metadata": {
    "collapsed": true
   },
   "outputs": [],
   "source": [
    "def create_loss(outputs, y_):\n",
    "    log_loss = tf.reduce_mean(tf.reduce_sum(tf.log(outputs) * y_, axis = 1));\n",
    "    return log_loss;"
   ]
  },
  {
   "cell_type": "code",
   "execution_count": 6,
   "metadata": {},
   "outputs": [
    {
     "name": "stdout",
     "output_type": "stream",
     "text": [
      "()\n"
     ]
    }
   ],
   "source": [
    "log_loss = create_loss(softmax_outputs, y_)\n",
    "print(log_loss.get_shape())"
   ]
  },
  {
   "cell_type": "code",
   "execution_count": 7,
   "metadata": {
    "collapsed": true
   },
   "outputs": [],
   "source": [
    "def create_optimizer(loss):\n",
    "    optimizer = tf.train.AdamOptimizer()\n",
    "    minimize = optimizer.minimize(loss)\n",
    "    return minimize"
   ]
  },
  {
   "cell_type": "code",
   "execution_count": 9,
   "metadata": {
    "collapsed": true
   },
   "outputs": [],
   "source": [
    "minimize = create_optimizer(log_loss)"
   ]
  },
  {
   "cell_type": "code",
   "execution_count": null,
   "metadata": {
    "collapsed": true
   },
   "outputs": [],
   "source": [
    "init_op = tf.initialize_all_variables()\n",
    "sess = tf.Session()\n",
    "sess.run(init_op)"
   ]
  },
  {
   "cell_type": "code",
   "execution_count": null,
   "metadata": {
    "collapsed": true
   },
   "outputs": [],
   "source": [
    "batch_size = 100\n",
    "epochs = 2\n",
    "num_batches = len(sequences) / batch_size\n",
    "for e in range(epochs):\n",
    "    for i in range(num_batches):\n",
    "        train_x1 = sequences[0][i * batch_size : (i + 1) * batch_size]\n",
    "        train_x2 = sequences[1][i * batch_size : (i + 1) * batch_size]\n",
    "        target = similarities[i * batch_size : (i + 1) * batch_size]\n",
    "        sess.run(minimize, {x1: train_x1, x2: train_x2, y_: target})\n",
    "    train_loss = sess.run(loss, {x1: sequences[0], x2: sequences[1], y_: similarities})\n",
    "    test_loss = sess.run(loss, {x1 : test_sequences[0], x2 : test_sequences[1], y_ : test_similarities})\n",
    "    print(print('Epoch {:2d}, train error {:3.1f}, test error {:3.1f}%'.format(e, train_loss, test_loss)))\n",
    "sess.close()"
   ]
  }
 ],
 "metadata": {
  "kernelspec": {
   "display_name": "Python 3",
   "language": "python",
   "name": "python3"
  },
  "language_info": {
   "codemirror_mode": {
    "name": "ipython",
    "version": 3
   },
   "file_extension": ".py",
   "mimetype": "text/x-python",
   "name": "python",
   "nbconvert_exporter": "python",
   "pygments_lexer": "ipython3",
   "version": "3.6.1"
  }
 },
 "nbformat": 4,
 "nbformat_minor": 2
}

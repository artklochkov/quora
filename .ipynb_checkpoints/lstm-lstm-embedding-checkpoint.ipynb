{
 "cells": [
  {
   "cell_type": "code",
   "execution_count": 1,
   "metadata": {
    "collapsed": true
   },
   "outputs": [],
   "source": [
    "import tensorflow as tf\n",
    "import math"
   ]
  },
  {
   "cell_type": "code",
   "execution_count": 2,
   "metadata": {
    "collapsed": true
   },
   "outputs": [],
   "source": [
    "MAX_SEQUENCE_LENGTH = 1000;"
   ]
  },
  {
   "cell_type": "code",
   "execution_count": 3,
   "metadata": {
    "collapsed": true
   },
   "outputs": [],
   "source": [
    "def sequence_lengths(sequences):\n",
    "    lengths = tf.reduce_sum(tf.sign(sequences), axis = 1);\n",
    "    return lengths;\n",
    "\n",
    "def build_model(embedding_size = 100, lstm_size = 300, vocabulary_size = 100000):\n",
    "    x1 = tf.placeholder(tf.int32, shape = [None, MAX_SEQUENCE_LENGTH]);\n",
    "    x2 = tf.placeholder(tf.int32, shape = [None, MAX_SEQUENCE_LENGTH]);\n",
    "    y_ = tf.placeholder(tf.float32, shape = (2,None));\n",
    "    \n",
    "    embeddings = tf.Variable(tf.truncated_normal([vocabulary_size, embedding_size],\n",
    "                      stddev=1.0 / math.sqrt(embedding_size)));\n",
    "    embedding_layer_1 = tf.nn.embedding_lookup(embeddings, x1);\n",
    "    embedding_layer_2 = tf.nn.embedding_lookup(embeddings, x2);\n",
    "    \n",
    "    print(embeddings.get_shape());\n",
    "    print(embedding_layer_1.get_shape());\n",
    "    print(embedding_layer_2.get_shape());\n",
    "    lstm_cell_1 = tf.contrib.rnn.LSTMCell(lstm_size);\n",
    "    lstm_cell_2 = tf.contrib.rnn.LSTMCell(lstm_size);\n",
    "\n",
    "    with tf.variable_scope(\"lstm_1\"):\n",
    "        outputs_1, _ = tf.nn.dynamic_rnn(cell=lstm_cell_1,\n",
    "                                     dtype = tf.float32,\n",
    "                                     sequence_length = sequence_lengths(x1),\n",
    "                                     inputs = embedding_layer_1,\n",
    "                                     time_major = False);\n",
    "    \n",
    "    with tf.variable_scope(\"lstm_2\"):\n",
    "        outputs_2, _ = tf.nn.dynamic_rnn(cell = lstm_cell_2,\n",
    "                                     dtype = tf.float32,\n",
    "                                     sequence_length = sequence_lengths(x2),\n",
    "                                     inputs = embedding_layer_2,\n",
    "                                     time_major = False);\n",
    "    \n",
    "    lstm_outputs = tf.stack([outputs_1, outputs_2], axis = 1);\n",
    "    print(lstm_outputs.get_shape());\n",
    "    W = tf.Variable(tf.truncated_normal([2 * MAX_SEQUENCE_LENGTH, 2], stddev = 1.0/ math.sqrt(MAX_SEQUENCE_LENGTH)));\n",
    "    b = tf.Variable(tf.truncated_normal([2], stddev = 1.0 / math.sqrt(2)));\n",
    "    softmax_inputs = tf.matmul(lstm_outputs, W) + b;\n",
    "    softmax_outputs = tf.nn.softmax(softmax_inputs);\n",
    "    return x1, x2, y, softmax_outputs"
   ]
  },
  {
   "cell_type": "code",
   "execution_count": 4,
   "metadata": {},
   "outputs": [
    {
     "name": "stdout",
     "output_type": "stream",
     "text": [
      "(100000, 100)\n",
      "(?, 1000, 100)\n",
      "(?, 1000, 100)\n",
      "(?, 1000, 300)\n"
     ]
    },
    {
     "ename": "TypeError",
     "evalue": "'NoneType' object is not iterable",
     "output_type": "error",
     "traceback": [
      "\u001b[0;31m---------------------------------------------------------------------------\u001b[0m",
      "\u001b[0;31mTypeError\u001b[0m                                 Traceback (most recent call last)",
      "\u001b[0;32m<ipython-input-4-6b0cbce740ec>\u001b[0m in \u001b[0;36m<module>\u001b[0;34m()\u001b[0m\n\u001b[0;32m----> 1\u001b[0;31m \u001b[0mx1\u001b[0m\u001b[0;34m,\u001b[0m \u001b[0mx2\u001b[0m\u001b[0;34m,\u001b[0m \u001b[0my\u001b[0m\u001b[0;34m,\u001b[0m \u001b[0msoftmax_outputs\u001b[0m \u001b[0;34m=\u001b[0m \u001b[0mbuild_model\u001b[0m\u001b[0;34m(\u001b[0m\u001b[0;34m)\u001b[0m\u001b[0;34m\u001b[0m\u001b[0m\n\u001b[0m",
      "\u001b[0;31mTypeError\u001b[0m: 'NoneType' object is not iterable"
     ]
    }
   ],
   "source": [
    "x1, x2, y, softmax_outputs = build_model()"
   ]
  },
  {
   "cell_type": "code",
   "execution_count": null,
   "metadata": {
    "collapsed": true
   },
   "outputs": [],
   "source": []
  }
 ],
 "metadata": {
  "kernelspec": {
   "display_name": "Python 3",
   "language": "python",
   "name": "python3"
  },
  "language_info": {
   "codemirror_mode": {
    "name": "ipython",
    "version": 3
   },
   "file_extension": ".py",
   "mimetype": "text/x-python",
   "name": "python",
   "nbconvert_exporter": "python",
   "pygments_lexer": "ipython3",
   "version": "3.6.1"
  }
 },
 "nbformat": 4,
 "nbformat_minor": 2
}
